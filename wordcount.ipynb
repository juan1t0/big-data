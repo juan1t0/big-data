{
  "nbformat": 4,
  "nbformat_minor": 0,
  "metadata": {
    "colab": {
      "name": "wordcount.ipynb",
      "provenance": [],
      "collapsed_sections": [],
      "toc_visible": true,
      "mount_file_id": "1U_REtgRBopby1mf0Bwir_rD9JLeiNlyC",
      "authorship_tag": "ABX9TyPRFF2D82/xWXC+1NLNcHjH",
      "include_colab_link": true
    },
    "kernelspec": {
      "name": "python3",
      "display_name": "Python 3"
    }
  },
  "cells": [
    {
      "cell_type": "markdown",
      "metadata": {
        "id": "view-in-github",
        "colab_type": "text"
      },
      "source": [
        "<a href=\"https://colab.research.google.com/github/juan1t0/parallel/blob/master/wordcount.ipynb\" target=\"_parent\"><img src=\"https://colab.research.google.com/assets/colab-badge.svg\" alt=\"Open In Colab\"/></a>"
      ]
    },
    {
      "cell_type": "markdown",
      "metadata": {
        "id": "qhimagBYSpvD"
      },
      "source": [
        "# specs"
      ]
    },
    {
      "cell_type": "code",
      "metadata": {
        "id": "4dGzRrhdSjei",
        "outputId": "390583c1-4575-4237-c667-a0bb6d023b81",
        "colab": {
          "base_uri": "https://localhost:8080/",
          "height": 955
        }
      },
      "source": [
        "!cat /proc/cpuinfo"
      ],
      "execution_count": 22,
      "outputs": [
        {
          "output_type": "stream",
          "text": [
            "processor\t: 0\n",
            "vendor_id\t: GenuineIntel\n",
            "cpu family\t: 6\n",
            "model\t\t: 85\n",
            "model name\t: Intel(R) Xeon(R) CPU @ 2.00GHz\n",
            "stepping\t: 3\n",
            "microcode\t: 0x1\n",
            "cpu MHz\t\t: 2000.138\n",
            "cache size\t: 39424 KB\n",
            "physical id\t: 0\n",
            "siblings\t: 2\n",
            "core id\t\t: 0\n",
            "cpu cores\t: 1\n",
            "apicid\t\t: 0\n",
            "initial apicid\t: 0\n",
            "fpu\t\t: yes\n",
            "fpu_exception\t: yes\n",
            "cpuid level\t: 13\n",
            "wp\t\t: yes\n",
            "flags\t\t: fpu vme de pse tsc msr pae mce cx8 apic sep mtrr pge mca cmov pat pse36 clflush mmx fxsr sse sse2 ss ht syscall nx pdpe1gb rdtscp lm constant_tsc rep_good nopl xtopology nonstop_tsc cpuid tsc_known_freq pni pclmulqdq ssse3 fma cx16 pcid sse4_1 sse4_2 x2apic movbe popcnt aes xsave avx f16c rdrand hypervisor lahf_lm abm 3dnowprefetch invpcid_single ssbd ibrs ibpb stibp fsgsbase tsc_adjust bmi1 hle avx2 smep bmi2 erms invpcid rtm mpx avx512f avx512dq rdseed adx smap clflushopt clwb avx512cd avx512bw avx512vl xsaveopt xsavec xgetbv1 xsaves arat md_clear arch_capabilities\n",
            "bugs\t\t: cpu_meltdown spectre_v1 spectre_v2 spec_store_bypass l1tf mds swapgs taa\n",
            "bogomips\t: 4000.27\n",
            "clflush size\t: 64\n",
            "cache_alignment\t: 64\n",
            "address sizes\t: 46 bits physical, 48 bits virtual\n",
            "power management:\n",
            "\n",
            "processor\t: 1\n",
            "vendor_id\t: GenuineIntel\n",
            "cpu family\t: 6\n",
            "model\t\t: 85\n",
            "model name\t: Intel(R) Xeon(R) CPU @ 2.00GHz\n",
            "stepping\t: 3\n",
            "microcode\t: 0x1\n",
            "cpu MHz\t\t: 2000.138\n",
            "cache size\t: 39424 KB\n",
            "physical id\t: 0\n",
            "siblings\t: 2\n",
            "core id\t\t: 0\n",
            "cpu cores\t: 1\n",
            "apicid\t\t: 1\n",
            "initial apicid\t: 1\n",
            "fpu\t\t: yes\n",
            "fpu_exception\t: yes\n",
            "cpuid level\t: 13\n",
            "wp\t\t: yes\n",
            "flags\t\t: fpu vme de pse tsc msr pae mce cx8 apic sep mtrr pge mca cmov pat pse36 clflush mmx fxsr sse sse2 ss ht syscall nx pdpe1gb rdtscp lm constant_tsc rep_good nopl xtopology nonstop_tsc cpuid tsc_known_freq pni pclmulqdq ssse3 fma cx16 pcid sse4_1 sse4_2 x2apic movbe popcnt aes xsave avx f16c rdrand hypervisor lahf_lm abm 3dnowprefetch invpcid_single ssbd ibrs ibpb stibp fsgsbase tsc_adjust bmi1 hle avx2 smep bmi2 erms invpcid rtm mpx avx512f avx512dq rdseed adx smap clflushopt clwb avx512cd avx512bw avx512vl xsaveopt xsavec xgetbv1 xsaves arat md_clear arch_capabilities\n",
            "bugs\t\t: cpu_meltdown spectre_v1 spectre_v2 spec_store_bypass l1tf mds swapgs taa\n",
            "bogomips\t: 4000.27\n",
            "clflush size\t: 64\n",
            "cache_alignment\t: 64\n",
            "address sizes\t: 46 bits physical, 48 bits virtual\n",
            "power management:\n",
            "\n"
          ],
          "name": "stdout"
        }
      ]
    },
    {
      "cell_type": "code",
      "metadata": {
        "id": "6TQ40xcBUBuZ",
        "outputId": "216f5952-37b2-4dc4-918e-d38be7d93a1d",
        "colab": {
          "base_uri": "https://localhost:8080/",
          "height": 34
        }
      },
      "source": [
        "from platform import python_version\n",
        "\n",
        "print('python version: ',python_version())"
      ],
      "execution_count": 25,
      "outputs": [
        {
          "output_type": "stream",
          "text": [
            "python version:  3.6.9\n"
          ],
          "name": "stdout"
        }
      ]
    },
    {
      "cell_type": "markdown",
      "metadata": {
        "id": "HfslO1ffvUQF"
      },
      "source": [
        "# gen text"
      ]
    },
    {
      "cell_type": "code",
      "metadata": {
        "id": "MDIJEFnTvGuc",
        "outputId": "edce3784-7f94-453c-8edf-36490f18ce5a",
        "colab": {
          "base_uri": "https://localhost:8080/",
          "height": 51
        }
      },
      "source": [
        "!pip install lorem-text"
      ],
      "execution_count": 19,
      "outputs": [
        {
          "output_type": "stream",
          "text": [
            "Requirement already satisfied: lorem-text in /usr/local/lib/python3.6/dist-packages (1.5)\n",
            "Requirement already satisfied: Click>=7.0 in /usr/local/lib/python3.6/dist-packages (from lorem-text) (7.1.2)\n"
          ],
          "name": "stdout"
        }
      ]
    },
    {
      "cell_type": "code",
      "metadata": {
        "id": "0_vdu8vMxgwU"
      },
      "source": [
        "from lorem_text import lorem\n",
        "from sys import getsizeof"
      ],
      "execution_count": 2,
      "outputs": []
    },
    {
      "cell_type": "code",
      "metadata": {
        "id": "Su746KgWz0ml"
      },
      "source": [
        "def save_txt(obj, save = True,  name = 'text'):\n",
        "  n_c = len(obj)\n",
        "  n_B = getsizeof(obj)\n",
        "  n_KB = getsizeof(obj) *0.001\n",
        "  n_MB = getsizeof(obj) *0.000001\n",
        "  n_GB = getsizeof(obj) *0.000000001\n",
        "  print(type(obj), n_c, 'chars',\n",
        "      '|', n_B, 'Bytes',\n",
        "      '|', n_KB, 'KB',\n",
        "      '|', n_MB, 'MB',\n",
        "      '|', n_GB, 'GB')\n",
        "  if not save:\n",
        "    return\n",
        "  with open(name+'.txt','w') as f:\n",
        "    f.write(obj)\n",
        "  print(name, 'saved')"
      ],
      "execution_count": 3,
      "outputs": []
    },
    {
      "cell_type": "code",
      "metadata": {
        "id": "5vUapElYv5M6",
        "outputId": "e46a051d-5243-40d0-cbab-68818a3c88e7",
        "colab": {
          "base_uri": "https://localhost:8080/",
          "height": 51
        }
      },
      "source": [
        "prrf = lorem.paragraphs(50000)\n",
        "prrf = prrf*5\n",
        "save_txt(prrf,name='100MB')"
      ],
      "execution_count": 4,
      "outputs": [
        {
          "output_type": "stream",
          "text": [
            "<class 'str'> 99873580 chars | 99873629 Bytes | 99873.629 KB | 99.873629 MB | 0.099873629 GB\n",
            "100MB saved\n"
          ],
          "name": "stdout"
        }
      ]
    },
    {
      "cell_type": "code",
      "metadata": {
        "id": "1o3q8bKPvmeY",
        "outputId": "828ec69d-cb94-4996-ebf3-dd756297c778",
        "colab": {
          "base_uri": "https://localhost:8080/",
          "height": 51
        }
      },
      "source": [
        "prrf = prrf * 11\n",
        "save_txt(prrf, name='1GB')"
      ],
      "execution_count": 5,
      "outputs": [
        {
          "output_type": "stream",
          "text": [
            "<class 'str'> 1098609380 chars | 1098609429 Bytes | 1098609.429 KB | 1098.6094289999999 MB | 1.0986094290000001 GB\n",
            "1GB saved\n"
          ],
          "name": "stdout"
        }
      ]
    },
    {
      "cell_type": "code",
      "metadata": {
        "id": "uTecM-sV2VrO",
        "outputId": "55ba65b4-56cd-4a9d-e74a-05029aa9dcbd",
        "colab": {
          "base_uri": "https://localhost:8080/",
          "height": 51
        }
      },
      "source": [
        "prrf = prrf * 5\n",
        "save_txt(prrf, name='5GB')"
      ],
      "execution_count": 6,
      "outputs": [
        {
          "output_type": "stream",
          "text": [
            "<class 'str'> 5493046900 chars | 5493046949 Bytes | 5493046.949 KB | 5493.046949 MB | 5.493046949 GB\n",
            "5GB saved\n"
          ],
          "name": "stdout"
        }
      ]
    },
    {
      "cell_type": "code",
      "metadata": {
        "id": "6MBhGTPo5oCM"
      },
      "source": [
        "del prrf"
      ],
      "execution_count": 7,
      "outputs": []
    },
    {
      "cell_type": "markdown",
      "metadata": {
        "id": "jpx06ZZAvcZN"
      },
      "source": [
        "# wordcount"
      ]
    },
    {
      "cell_type": "code",
      "metadata": {
        "id": "4m47FJdGmDq0"
      },
      "source": [
        "from collections import Counter\n",
        "from itertools import chain\n",
        "\n",
        "def WordCount(filename):\n",
        "  with open(filename) as f:\n",
        "    linewords = (line.translate(str.maketrans('','', string.punctuation)).lower().split() for line in f)\n",
        "    return Counter(chain.from_iterable(linewords))"
      ],
      "execution_count": 20,
      "outputs": []
    },
    {
      "cell_type": "code",
      "metadata": {
        "id": "SDlq2d3QEe2j"
      },
      "source": [
        "import string\n",
        "import json\n",
        "from time import time"
      ],
      "execution_count": 9,
      "outputs": []
    },
    {
      "cell_type": "code",
      "metadata": {
        "id": "c_LCjOPW3DCH",
        "outputId": "14d472ed-085e-44eb-f523-3e5b132c8122",
        "colab": {
          "base_uri": "https://localhost:8080/",
          "height": 34
        }
      },
      "source": [
        "namefile = '100MB'\n",
        "\n",
        "start = time()\n",
        "WC = WordCount(namefile + '.txt')\n",
        "end = time()\n",
        "\n",
        "t_ex = end - start\n",
        " \n",
        "print ('El tiempo de ejecucion para un archivo de',namefile,':',t_ex)\n",
        "\n",
        "json100MB = json.dumps(WC)\n",
        "f = open(namefile+\"_wc.json\",\"w\")\n",
        "f.write(json100MB)\n",
        "f.close()"
      ],
      "execution_count": 16,
      "outputs": [
        {
          "output_type": "stream",
          "text": [
            "El tiempo de ejecucion para un archivo de 100MB : 4.174702167510986\n"
          ],
          "name": "stdout"
        }
      ]
    },
    {
      "cell_type": "code",
      "metadata": {
        "id": "Y2vMg7oTztNN",
        "outputId": "f19f0e47-8765-423e-89de-75088064d32d",
        "colab": {
          "base_uri": "https://localhost:8080/",
          "height": 34
        }
      },
      "source": [
        "namefile = '1GB'\n",
        "\n",
        "start = time()\n",
        "WC = WordCount(namefile + '.txt')\n",
        "end = time()\n",
        "\n",
        "t_ex = end - start\n",
        " \n",
        "print ('El tiempo de ejecucion para un archivo de',namefile,':',t_ex)\n",
        "\n",
        "json1G = json.dumps(WC)\n",
        "f = open(namefile+\"_wc.json\",\"w\")\n",
        "f.write(json1G)\n",
        "f.close()"
      ],
      "execution_count": 17,
      "outputs": [
        {
          "output_type": "stream",
          "text": [
            "El tiempo de ejecucion para un archivo de 1GB : 48.81157994270325\n"
          ],
          "name": "stdout"
        }
      ]
    },
    {
      "cell_type": "code",
      "metadata": {
        "id": "FgqYVLWJ5T9a",
        "outputId": "c70f6e4d-fa9e-40a9-ee52-89c105af1246",
        "colab": {
          "base_uri": "https://localhost:8080/",
          "height": 34
        }
      },
      "source": [
        "namefile = '5GB'\n",
        "\n",
        "start = time()\n",
        "WC = WordCount(namefile + '.txt')\n",
        "end = time()\n",
        "\n",
        "t_ex = end - start\n",
        " \n",
        "print ('El tiempo de ejecucion para un archivo de',namefile,':',t_ex)\n",
        "\n",
        "json5G = json.dumps(WC)\n",
        "f = open(namefile+\"_wc.json\",\"w\")\n",
        "f.write(json5G)\n",
        "f.close()"
      ],
      "execution_count": 18,
      "outputs": [
        {
          "output_type": "stream",
          "text": [
            "El tiempo de ejecucion para un archivo de 5GB : 237.68187928199768\n"
          ],
          "name": "stdout"
        }
      ]
    }
  ]
}